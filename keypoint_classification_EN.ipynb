{
 "cells": [
  {
   "cell_type": "code",
   "execution_count": 3,
   "metadata": {
    "id": "igMyGnjE9hEp"
   },
   "outputs": [],
   "source": [
    "import csv\n",
    "\n",
    "import numpy as np\n",
    "import tensorflow as tf\n",
    "import glob\n",
    "from sklearn.model_selection import train_test_split\n",
    "\n",
    "RANDOM_SEED = 42"
   ]
  },
  {
   "cell_type": "markdown",
   "metadata": {
    "id": "t2HDvhIu9hEr"
   },
   "source": [
    "# Specify each path"
   ]
  },
  {
   "cell_type": "code",
   "execution_count": 31,
   "metadata": {
    "id": "9NvZP2Zn9hEy"
   },
   "outputs": [],
   "source": [
    "# dataset = 'model/keypoint_classifier/keypoint.csv'\n",
    "model_save_path = 'model/keypoint_classifier/keypoint_classifier.hdf5'\n",
    "tflite_save_path = 'model/keypoint_classifier/keypoint_classifier.tflite'"
   ]
  },
  {
   "cell_type": "code",
   "execution_count": 32,
   "metadata": {},
   "outputs": [],
   "source": [
    "data_list = glob.glob('model/keypoint_classifier/data/*.csv')\n",
    "\n",
    "\n",
    "for i,dat in enumerate(data_list):\n",
    "    if i == 0:\n",
    "        data = np.genfromtxt(dat,delimiter=',')\n",
    "    else:\n",
    "        temp_data = np.genfromtxt(dat,delimiter=',')\n",
    "        data = np.vstack((data,temp_data))\n",
    "        \n",
    "X_dataset = data[:,range(1,(21*2)+1)]\n",
    "Y_dataset = data[:,0]"
   ]
  },
  {
   "cell_type": "markdown",
   "metadata": {
    "id": "s5oMH7x19hEz"
   },
   "source": [
    "# Set number of classes"
   ]
  },
  {
   "cell_type": "code",
   "execution_count": 33,
   "metadata": {
    "id": "du4kodXL9hEz"
   },
   "outputs": [],
   "source": [
    "NUM_CLASSES = 5"
   ]
  },
  {
   "cell_type": "markdown",
   "metadata": {
    "id": "XjnL0uso9hEz"
   },
   "source": [
    "# Dataset reading"
   ]
  },
  {
   "cell_type": "code",
   "execution_count": 21,
   "metadata": {
    "id": "QT5ZqtEz9hE0"
   },
   "outputs": [
    {
     "data": {
      "text/plain": [
       "(4787, 42)"
      ]
     },
     "execution_count": 21,
     "metadata": {},
     "output_type": "execute_result"
    }
   ],
   "source": [
    "# X_dataset = np.loadtxt('model/keypoint_classifier/keypoint_old.csv', delimiter=',', dtype='float32', usecols=list(range(1, (21 * 2) + 1)))\n",
    "# X_dataset.shape"
   ]
  },
  {
   "cell_type": "code",
   "execution_count": 12,
   "metadata": {},
   "outputs": [
    {
     "ename": "NameError",
     "evalue": "name 'X_dataset' is not defined",
     "output_type": "error",
     "traceback": [
      "\u001b[0;31m---------------------------------------------------------------------------\u001b[0m",
      "\u001b[0;31mNameError\u001b[0m                                 Traceback (most recent call last)",
      "\u001b[0;32m/var/folders/zn/_3stl7kj5xzdxw8p08_bvydc0000gn/T/ipykernel_72332/26732518.py\u001b[0m in \u001b[0;36m<module>\u001b[0;34m\u001b[0m\n\u001b[0;32m----> 1\u001b[0;31m \u001b[0mprint\u001b[0m\u001b[0;34m(\u001b[0m\u001b[0mX_dataset\u001b[0m\u001b[0;34m)\u001b[0m\u001b[0;34m\u001b[0m\u001b[0;34m\u001b[0m\u001b[0m\n\u001b[0m",
      "\u001b[0;31mNameError\u001b[0m: name 'X_dataset' is not defined"
     ]
    }
   ],
   "source": [
    "print(X_dataset)"
   ]
  },
  {
   "cell_type": "code",
   "execution_count": 34,
   "metadata": {
    "id": "QmoKFsp49hE0"
   },
   "outputs": [],
   "source": [
    "# y_dataset = np.loadtxt(dataset, delimiter=',', dtype='int32', usecols=(0))"
   ]
  },
  {
   "cell_type": "code",
   "execution_count": 35,
   "metadata": {
    "id": "xQU7JTZ_9hE0"
   },
   "outputs": [],
   "source": [
    "X_train, X_test, y_train, y_test = train_test_split(X_dataset, Y_dataset, train_size=0.75, random_state=RANDOM_SEED)"
   ]
  },
  {
   "cell_type": "markdown",
   "metadata": {
    "id": "mxK_lETT9hE0"
   },
   "source": [
    "# Model building"
   ]
  },
  {
   "cell_type": "code",
   "execution_count": 36,
   "metadata": {
    "id": "vHBmUf1t9hE1"
   },
   "outputs": [],
   "source": [
    "model = tf.keras.models.Sequential([\n",
    "    tf.keras.layers.Input((21 * 2, )),\n",
    "    tf.keras.layers.Dropout(0.2),\n",
    "    tf.keras.layers.Dense(20, activation='relu'),\n",
    "    tf.keras.layers.Dropout(0.4),\n",
    "    tf.keras.layers.Dense(10, activation='relu'),\n",
    "    tf.keras.layers.Dense(NUM_CLASSES, activation='softmax')\n",
    "])"
   ]
  },
  {
   "cell_type": "code",
   "execution_count": 37,
   "metadata": {
    "colab": {
     "base_uri": "https://localhost:8080/"
    },
    "id": "ypqky9tc9hE1",
    "outputId": "5db082bb-30e3-4110-bf63-a1ee777ecd46"
   },
   "outputs": [
    {
     "name": "stdout",
     "output_type": "stream",
     "text": [
      "Model: \"sequential_1\"\n",
      "_________________________________________________________________\n",
      "Layer (type)                 Output Shape              Param #   \n",
      "=================================================================\n",
      "dropout_2 (Dropout)          (None, 42)                0         \n",
      "_________________________________________________________________\n",
      "dense_3 (Dense)              (None, 20)                860       \n",
      "_________________________________________________________________\n",
      "dropout_3 (Dropout)          (None, 20)                0         \n",
      "_________________________________________________________________\n",
      "dense_4 (Dense)              (None, 10)                210       \n",
      "_________________________________________________________________\n",
      "dense_5 (Dense)              (None, 5)                 55        \n",
      "=================================================================\n",
      "Total params: 1,125\n",
      "Trainable params: 1,125\n",
      "Non-trainable params: 0\n",
      "_________________________________________________________________\n"
     ]
    }
   ],
   "source": [
    "model.summary()  # tf.keras.utils.plot_model(model, show_shapes=True)"
   ]
  },
  {
   "cell_type": "code",
   "execution_count": 38,
   "metadata": {
    "id": "MbMjOflQ9hE1"
   },
   "outputs": [],
   "source": [
    "# Model checkpoint callback\n",
    "cp_callback = tf.keras.callbacks.ModelCheckpoint(\n",
    "    model_save_path, verbose=1, save_weights_only=False)\n",
    "# Callback for early stopping\n",
    "es_callback = tf.keras.callbacks.EarlyStopping(patience=20, verbose=1)"
   ]
  },
  {
   "cell_type": "code",
   "execution_count": 39,
   "metadata": {
    "id": "c3Dac0M_9hE2"
   },
   "outputs": [],
   "source": [
    "# Model compilation\n",
    "model.compile(\n",
    "    optimizer='adam',\n",
    "    loss='sparse_categorical_crossentropy',\n",
    "    metrics=['accuracy']\n",
    ")"
   ]
  },
  {
   "cell_type": "markdown",
   "metadata": {
    "id": "7XI0j1Iu9hE2"
   },
   "source": [
    "# Model training"
   ]
  },
  {
   "cell_type": "code",
   "execution_count": 45,
   "metadata": {
    "colab": {
     "base_uri": "https://localhost:8080/"
    },
    "id": "WirBl-JE9hE3",
    "outputId": "71b30ca2-8294-4d9d-8aa2-800d90d399de",
    "scrolled": true,
    "tags": []
   },
   "outputs": [
    {
     "name": "stdout",
     "output_type": "stream",
     "text": [
      "Epoch 1/1000\n",
      "32/32 [==============================] - 0s 5ms/step - loss: 0.5546 - accuracy: 0.7946 - val_loss: 0.2189 - val_accuracy: 0.9591\n",
      "\n",
      "Epoch 00001: saving model to model/keypoint_classifier/keypoint_classifier.hdf5\n",
      "Epoch 2/1000\n",
      "32/32 [==============================] - 0s 2ms/step - loss: 0.5426 - accuracy: 0.8045 - val_loss: 0.2160 - val_accuracy: 0.9583\n",
      "\n",
      "Epoch 00002: saving model to model/keypoint_classifier/keypoint_classifier.hdf5\n",
      "Epoch 3/1000\n",
      "32/32 [==============================] - 0s 2ms/step - loss: 0.5629 - accuracy: 0.7934 - val_loss: 0.2212 - val_accuracy: 0.9539\n",
      "\n",
      "Epoch 00003: saving model to model/keypoint_classifier/keypoint_classifier.hdf5\n",
      "Epoch 4/1000\n",
      "32/32 [==============================] - 0s 2ms/step - loss: 0.5586 - accuracy: 0.7881 - val_loss: 0.2222 - val_accuracy: 0.9539\n",
      "\n",
      "Epoch 00004: saving model to model/keypoint_classifier/keypoint_classifier.hdf5\n",
      "Epoch 5/1000\n",
      "32/32 [==============================] - 0s 2ms/step - loss: 0.5702 - accuracy: 0.7790 - val_loss: 0.2222 - val_accuracy: 0.9524\n",
      "\n",
      "Epoch 00005: saving model to model/keypoint_classifier/keypoint_classifier.hdf5\n",
      "Epoch 6/1000\n",
      "32/32 [==============================] - 0s 2ms/step - loss: 0.5535 - accuracy: 0.7916 - val_loss: 0.2197 - val_accuracy: 0.9561\n",
      "\n",
      "Epoch 00006: saving model to model/keypoint_classifier/keypoint_classifier.hdf5\n",
      "Epoch 7/1000\n",
      "32/32 [==============================] - 0s 2ms/step - loss: 0.5435 - accuracy: 0.8000 - val_loss: 0.2167 - val_accuracy: 0.9554\n",
      "\n",
      "Epoch 00007: saving model to model/keypoint_classifier/keypoint_classifier.hdf5\n",
      "Epoch 8/1000\n",
      "32/32 [==============================] - 0s 2ms/step - loss: 0.5439 - accuracy: 0.7951 - val_loss: 0.2193 - val_accuracy: 0.9554\n",
      "\n",
      "Epoch 00008: saving model to model/keypoint_classifier/keypoint_classifier.hdf5\n",
      "Epoch 9/1000\n",
      "32/32 [==============================] - 0s 2ms/step - loss: 0.5810 - accuracy: 0.7834 - val_loss: 0.2250 - val_accuracy: 0.9561\n",
      "\n",
      "Epoch 00009: saving model to model/keypoint_classifier/keypoint_classifier.hdf5\n",
      "Epoch 10/1000\n",
      "32/32 [==============================] - 0s 2ms/step - loss: 0.5528 - accuracy: 0.7958 - val_loss: 0.2271 - val_accuracy: 0.9501\n",
      "\n",
      "Epoch 00010: saving model to model/keypoint_classifier/keypoint_classifier.hdf5\n",
      "Epoch 11/1000\n",
      "32/32 [==============================] - 0s 2ms/step - loss: 0.5500 - accuracy: 0.7914 - val_loss: 0.2172 - val_accuracy: 0.9583\n",
      "\n",
      "Epoch 00011: saving model to model/keypoint_classifier/keypoint_classifier.hdf5\n",
      "Epoch 12/1000\n",
      "32/32 [==============================] - 0s 2ms/step - loss: 0.5478 - accuracy: 0.7966 - val_loss: 0.2130 - val_accuracy: 0.9568\n",
      "\n",
      "Epoch 00012: saving model to model/keypoint_classifier/keypoint_classifier.hdf5\n",
      "Epoch 13/1000\n",
      "32/32 [==============================] - 0s 2ms/step - loss: 0.5405 - accuracy: 0.8005 - val_loss: 0.2127 - val_accuracy: 0.9583\n",
      "\n",
      "Epoch 00013: saving model to model/keypoint_classifier/keypoint_classifier.hdf5\n",
      "Epoch 14/1000\n",
      "32/32 [==============================] - 0s 2ms/step - loss: 0.5602 - accuracy: 0.8000 - val_loss: 0.2191 - val_accuracy: 0.9561\n",
      "\n",
      "Epoch 00014: saving model to model/keypoint_classifier/keypoint_classifier.hdf5\n",
      "Epoch 15/1000\n",
      "32/32 [==============================] - 0s 2ms/step - loss: 0.5603 - accuracy: 0.7916 - val_loss: 0.2179 - val_accuracy: 0.9583\n",
      "\n",
      "Epoch 00015: saving model to model/keypoint_classifier/keypoint_classifier.hdf5\n",
      "Epoch 16/1000\n",
      "32/32 [==============================] - 0s 2ms/step - loss: 0.5578 - accuracy: 0.7884 - val_loss: 0.2239 - val_accuracy: 0.9524\n",
      "\n",
      "Epoch 00016: saving model to model/keypoint_classifier/keypoint_classifier.hdf5\n",
      "Epoch 17/1000\n",
      "32/32 [==============================] - 0s 2ms/step - loss: 0.5591 - accuracy: 0.7998 - val_loss: 0.2232 - val_accuracy: 0.9516\n",
      "\n",
      "Epoch 00017: saving model to model/keypoint_classifier/keypoint_classifier.hdf5\n",
      "Epoch 18/1000\n",
      "32/32 [==============================] - 0s 2ms/step - loss: 0.5743 - accuracy: 0.7852 - val_loss: 0.2185 - val_accuracy: 0.9568\n",
      "\n",
      "Epoch 00018: saving model to model/keypoint_classifier/keypoint_classifier.hdf5\n",
      "Epoch 19/1000\n",
      "32/32 [==============================] - 0s 2ms/step - loss: 0.5509 - accuracy: 0.7938 - val_loss: 0.2140 - val_accuracy: 0.9568\n",
      "\n",
      "Epoch 00019: saving model to model/keypoint_classifier/keypoint_classifier.hdf5\n",
      "Epoch 20/1000\n",
      "32/32 [==============================] - 0s 2ms/step - loss: 0.5318 - accuracy: 0.8010 - val_loss: 0.2090 - val_accuracy: 0.9568\n",
      "\n",
      "Epoch 00020: saving model to model/keypoint_classifier/keypoint_classifier.hdf5\n",
      "Epoch 21/1000\n",
      "32/32 [==============================] - 0s 2ms/step - loss: 0.5545 - accuracy: 0.7978 - val_loss: 0.2192 - val_accuracy: 0.9516\n",
      "\n",
      "Epoch 00021: saving model to model/keypoint_classifier/keypoint_classifier.hdf5\n",
      "Epoch 22/1000\n",
      "32/32 [==============================] - 0s 2ms/step - loss: 0.5661 - accuracy: 0.7924 - val_loss: 0.2153 - val_accuracy: 0.9554\n",
      "\n",
      "Epoch 00022: saving model to model/keypoint_classifier/keypoint_classifier.hdf5\n",
      "Epoch 23/1000\n",
      "32/32 [==============================] - 0s 2ms/step - loss: 0.5698 - accuracy: 0.7894 - val_loss: 0.2213 - val_accuracy: 0.9546\n",
      "\n",
      "Epoch 00023: saving model to model/keypoint_classifier/keypoint_classifier.hdf5\n",
      "Epoch 24/1000\n",
      "32/32 [==============================] - 0s 2ms/step - loss: 0.5572 - accuracy: 0.7931 - val_loss: 0.2214 - val_accuracy: 0.9546\n",
      "\n",
      "Epoch 00024: saving model to model/keypoint_classifier/keypoint_classifier.hdf5\n",
      "Epoch 25/1000\n",
      "32/32 [==============================] - 0s 2ms/step - loss: 0.5622 - accuracy: 0.7909 - val_loss: 0.2207 - val_accuracy: 0.9554\n",
      "\n",
      "Epoch 00025: saving model to model/keypoint_classifier/keypoint_classifier.hdf5\n",
      "Epoch 26/1000\n",
      "32/32 [==============================] - 0s 2ms/step - loss: 0.5451 - accuracy: 0.7983 - val_loss: 0.2160 - val_accuracy: 0.9576\n",
      "\n",
      "Epoch 00026: saving model to model/keypoint_classifier/keypoint_classifier.hdf5\n",
      "Epoch 27/1000\n",
      "32/32 [==============================] - 0s 2ms/step - loss: 0.5586 - accuracy: 0.7916 - val_loss: 0.2093 - val_accuracy: 0.9613\n",
      "\n",
      "Epoch 00027: saving model to model/keypoint_classifier/keypoint_classifier.hdf5\n",
      "Epoch 28/1000\n",
      "32/32 [==============================] - 0s 2ms/step - loss: 0.5582 - accuracy: 0.7993 - val_loss: 0.2174 - val_accuracy: 0.9561\n",
      "\n",
      "Epoch 00028: saving model to model/keypoint_classifier/keypoint_classifier.hdf5\n",
      "Epoch 29/1000\n",
      "32/32 [==============================] - 0s 2ms/step - loss: 0.5503 - accuracy: 0.7859 - val_loss: 0.2160 - val_accuracy: 0.9539\n",
      "\n",
      "Epoch 00029: saving model to model/keypoint_classifier/keypoint_classifier.hdf5\n",
      "Epoch 30/1000\n",
      "32/32 [==============================] - 0s 2ms/step - loss: 0.5179 - accuracy: 0.8050 - val_loss: 0.2120 - val_accuracy: 0.9554\n",
      "\n",
      "Epoch 00030: saving model to model/keypoint_classifier/keypoint_classifier.hdf5\n",
      "Epoch 31/1000\n",
      "32/32 [==============================] - 0s 2ms/step - loss: 0.5572 - accuracy: 0.7991 - val_loss: 0.2076 - val_accuracy: 0.9591\n",
      "\n",
      "Epoch 00031: saving model to model/keypoint_classifier/keypoint_classifier.hdf5\n",
      "Epoch 32/1000\n",
      "32/32 [==============================] - 0s 2ms/step - loss: 0.5365 - accuracy: 0.8063 - val_loss: 0.2159 - val_accuracy: 0.9591\n",
      "\n",
      "Epoch 00032: saving model to model/keypoint_classifier/keypoint_classifier.hdf5\n",
      "Epoch 33/1000\n",
      "32/32 [==============================] - 0s 2ms/step - loss: 0.5428 - accuracy: 0.8023 - val_loss: 0.2201 - val_accuracy: 0.9546\n",
      "\n",
      "Epoch 00033: saving model to model/keypoint_classifier/keypoint_classifier.hdf5\n",
      "Epoch 34/1000\n",
      "32/32 [==============================] - 0s 2ms/step - loss: 0.5569 - accuracy: 0.8008 - val_loss: 0.2201 - val_accuracy: 0.9554\n",
      "\n",
      "Epoch 00034: saving model to model/keypoint_classifier/keypoint_classifier.hdf5\n",
      "Epoch 35/1000\n",
      "32/32 [==============================] - 0s 2ms/step - loss: 0.5481 - accuracy: 0.7931 - val_loss: 0.2286 - val_accuracy: 0.9509\n",
      "\n",
      "Epoch 00035: saving model to model/keypoint_classifier/keypoint_classifier.hdf5\n",
      "Epoch 36/1000\n",
      "32/32 [==============================] - 0s 2ms/step - loss: 0.5359 - accuracy: 0.8070 - val_loss: 0.2066 - val_accuracy: 0.9598\n",
      "\n",
      "Epoch 00036: saving model to model/keypoint_classifier/keypoint_classifier.hdf5\n",
      "Epoch 37/1000\n",
      "32/32 [==============================] - 0s 2ms/step - loss: 0.5394 - accuracy: 0.8092 - val_loss: 0.2141 - val_accuracy: 0.9561\n",
      "\n",
      "Epoch 00037: saving model to model/keypoint_classifier/keypoint_classifier.hdf5\n",
      "Epoch 38/1000\n",
      "32/32 [==============================] - 0s 2ms/step - loss: 0.5369 - accuracy: 0.8120 - val_loss: 0.2181 - val_accuracy: 0.9531\n",
      "\n",
      "Epoch 00038: saving model to model/keypoint_classifier/keypoint_classifier.hdf5\n",
      "Epoch 39/1000\n",
      "32/32 [==============================] - 0s 2ms/step - loss: 0.5401 - accuracy: 0.7934 - val_loss: 0.2179 - val_accuracy: 0.9516\n",
      "\n",
      "Epoch 00039: saving model to model/keypoint_classifier/keypoint_classifier.hdf5\n",
      "Epoch 40/1000\n",
      "32/32 [==============================] - 0s 2ms/step - loss: 0.5470 - accuracy: 0.7943 - val_loss: 0.2126 - val_accuracy: 0.9598\n",
      "\n",
      "Epoch 00040: saving model to model/keypoint_classifier/keypoint_classifier.hdf5\n",
      "Epoch 41/1000\n",
      "32/32 [==============================] - 0s 2ms/step - loss: 0.5343 - accuracy: 0.8028 - val_loss: 0.2110 - val_accuracy: 0.9613\n",
      "\n",
      "Epoch 00041: saving model to model/keypoint_classifier/keypoint_classifier.hdf5\n",
      "Epoch 42/1000\n",
      "32/32 [==============================] - 0s 2ms/step - loss: 0.5471 - accuracy: 0.8040 - val_loss: 0.2182 - val_accuracy: 0.9568\n",
      "\n",
      "Epoch 00042: saving model to model/keypoint_classifier/keypoint_classifier.hdf5\n",
      "Epoch 43/1000\n",
      "32/32 [==============================] - 0s 2ms/step - loss: 0.5526 - accuracy: 0.7911 - val_loss: 0.2151 - val_accuracy: 0.9576\n",
      "\n",
      "Epoch 00043: saving model to model/keypoint_classifier/keypoint_classifier.hdf5\n",
      "Epoch 44/1000\n",
      "32/32 [==============================] - 0s 2ms/step - loss: 0.5531 - accuracy: 0.7953 - val_loss: 0.2242 - val_accuracy: 0.9539\n",
      "\n",
      "Epoch 00044: saving model to model/keypoint_classifier/keypoint_classifier.hdf5\n",
      "Epoch 45/1000\n",
      "32/32 [==============================] - 0s 2ms/step - loss: 0.5313 - accuracy: 0.8023 - val_loss: 0.2162 - val_accuracy: 0.9561\n",
      "\n",
      "Epoch 00045: saving model to model/keypoint_classifier/keypoint_classifier.hdf5\n",
      "Epoch 46/1000\n",
      "32/32 [==============================] - 0s 2ms/step - loss: 0.5359 - accuracy: 0.8020 - val_loss: 0.2074 - val_accuracy: 0.9613\n",
      "\n",
      "Epoch 00046: saving model to model/keypoint_classifier/keypoint_classifier.hdf5\n",
      "Epoch 47/1000\n",
      "32/32 [==============================] - 0s 2ms/step - loss: 0.5621 - accuracy: 0.7988 - val_loss: 0.2174 - val_accuracy: 0.9554\n",
      "\n",
      "Epoch 00047: saving model to model/keypoint_classifier/keypoint_classifier.hdf5\n",
      "Epoch 48/1000\n",
      "32/32 [==============================] - 0s 2ms/step - loss: 0.5474 - accuracy: 0.7958 - val_loss: 0.2214 - val_accuracy: 0.9516\n",
      "\n",
      "Epoch 00048: saving model to model/keypoint_classifier/keypoint_classifier.hdf5\n",
      "Epoch 49/1000\n",
      "32/32 [==============================] - 0s 2ms/step - loss: 0.5467 - accuracy: 0.7986 - val_loss: 0.2221 - val_accuracy: 0.9524\n",
      "\n",
      "Epoch 00049: saving model to model/keypoint_classifier/keypoint_classifier.hdf5\n",
      "Epoch 50/1000\n",
      "32/32 [==============================] - 0s 2ms/step - loss: 0.5435 - accuracy: 0.7924 - val_loss: 0.2177 - val_accuracy: 0.9576\n",
      "\n",
      "Epoch 00050: saving model to model/keypoint_classifier/keypoint_classifier.hdf5\n",
      "Epoch 51/1000\n",
      "32/32 [==============================] - 0s 2ms/step - loss: 0.5385 - accuracy: 0.8003 - val_loss: 0.2095 - val_accuracy: 0.9583\n",
      "\n",
      "Epoch 00051: saving model to model/keypoint_classifier/keypoint_classifier.hdf5\n",
      "Epoch 52/1000\n",
      "32/32 [==============================] - 0s 2ms/step - loss: 0.5498 - accuracy: 0.8003 - val_loss: 0.2139 - val_accuracy: 0.9568\n",
      "\n",
      "Epoch 00052: saving model to model/keypoint_classifier/keypoint_classifier.hdf5\n",
      "Epoch 53/1000\n",
      "32/32 [==============================] - 0s 2ms/step - loss: 0.5517 - accuracy: 0.7953 - val_loss: 0.2133 - val_accuracy: 0.9606\n",
      "\n",
      "Epoch 00053: saving model to model/keypoint_classifier/keypoint_classifier.hdf5\n",
      "Epoch 54/1000\n",
      "32/32 [==============================] - 0s 2ms/step - loss: 0.5467 - accuracy: 0.8010 - val_loss: 0.2192 - val_accuracy: 0.9606\n",
      "\n",
      "Epoch 00054: saving model to model/keypoint_classifier/keypoint_classifier.hdf5\n",
      "Epoch 55/1000\n",
      "32/32 [==============================] - 0s 2ms/step - loss: 0.5500 - accuracy: 0.7986 - val_loss: 0.2086 - val_accuracy: 0.9628\n",
      "\n",
      "Epoch 00055: saving model to model/keypoint_classifier/keypoint_classifier.hdf5\n",
      "Epoch 56/1000\n",
      "32/32 [==============================] - 0s 2ms/step - loss: 0.5495 - accuracy: 0.7978 - val_loss: 0.2102 - val_accuracy: 0.9613\n",
      "\n",
      "Epoch 00056: saving model to model/keypoint_classifier/keypoint_classifier.hdf5\n",
      "Epoch 00056: early stopping\n"
     ]
    },
    {
     "data": {
      "text/plain": [
       "<tensorflow.python.keras.callbacks.History at 0x1a46f5640>"
      ]
     },
     "execution_count": 45,
     "metadata": {},
     "output_type": "execute_result"
    }
   ],
   "source": [
    "model.fit(\n",
    "    X_train,\n",
    "    y_train,\n",
    "    epochs=1000,\n",
    "    batch_size=128,\n",
    "    validation_data=(X_test, y_test),\n",
    "    callbacks=[cp_callback, es_callback]\n",
    ")"
   ]
  },
  {
   "cell_type": "code",
   "execution_count": 42,
   "metadata": {
    "colab": {
     "base_uri": "https://localhost:8080/"
    },
    "id": "pxvb2Y299hE3",
    "outputId": "59eb3185-2e37-4b9e-bc9d-ab1b8ac29b7f"
   },
   "outputs": [
    {
     "name": "stdout",
     "output_type": "stream",
     "text": [
      "11/11 [==============================] - 0s 939us/step - loss: 0.2328 - accuracy: 0.9501\n"
     ]
    }
   ],
   "source": [
    "# Model evaluation\n",
    "val_loss, val_acc = model.evaluate(X_test, y_test, batch_size=128)"
   ]
  },
  {
   "cell_type": "code",
   "execution_count": 46,
   "metadata": {
    "id": "RBkmDeUW9hE4"
   },
   "outputs": [],
   "source": [
    "# Loading the saved model\n",
    "model = tf.keras.models.load_model(model_save_path)"
   ]
  },
  {
   "cell_type": "code",
   "execution_count": 47,
   "metadata": {
    "colab": {
     "base_uri": "https://localhost:8080/"
    },
    "id": "tFz9Tb0I9hE4",
    "outputId": "1c3b3528-54ae-4ee2-ab04-77429211cbef"
   },
   "outputs": [
    {
     "name": "stdout",
     "output_type": "stream",
     "text": [
      "[6.5797329e-02 6.8716615e-02 8.6496985e-01 2.6929931e-05 4.8932375e-04]\n",
      "2\n"
     ]
    }
   ],
   "source": [
    "# Inference test\n",
    "predict_result = model.predict(np.array([X_test[0]]))\n",
    "print(np.squeeze(predict_result))\n",
    "print(np.argmax(np.squeeze(predict_result)))"
   ]
  },
  {
   "cell_type": "markdown",
   "metadata": {
    "id": "S3U4yNWx9hE4"
   },
   "source": [
    "# Confusion matrix"
   ]
  },
  {
   "cell_type": "code",
   "execution_count": 56,
   "metadata": {
    "colab": {
     "base_uri": "https://localhost:8080/",
     "height": 582
    },
    "id": "AP1V6SCk9hE5",
    "outputId": "08e41a80-7a4a-4619-8125-ecc371368d19"
   },
   "outputs": [
    {
     "data": {
      "image/png": "[encoded data removed]",
      "text/plain": [
       "<Figure size 504x432 with 2 Axes>"
      ]
     },
     "metadata": {
      "needs_background": "light"
     },
     "output_type": "display_data"
    },
    {
     "name": "stdout",
     "output_type": "stream",
     "text": [
      "Classification Report\n",
      "              precision    recall  f1-score   support\n",
      "\n",
      "         0.0       0.96      0.98      0.97       366\n",
      "         1.0       0.99      0.90      0.95       373\n",
      "         2.0       0.92      0.99      0.95       356\n",
      "         3.0       0.94      0.97      0.96        88\n",
      "         4.0       1.00      1.00      1.00       161\n",
      "\n",
      "    accuracy                           0.96      1344\n",
      "   macro avg       0.96      0.97      0.96      1344\n",
      "weighted avg       0.96      0.96      0.96      1344\n",
      "\n"
     ]
    }
   ],
   "source": [
    "import pandas as pd\n",
    "import seaborn as sns\n",
    "import matplotlib.pyplot as plt\n",
    "from sklearn.metrics import confusion_matrix, classification_report\n",
    "\n",
    "def print_confusion_matrix(y_true, y_pred, report=True):\n",
    "    labels = sorted(list(set(y_true)))\n",
    "    cmx_data = confusion_matrix(y_true, y_pred, labels=labels)\n",
    "    \n",
    "    df_cmx = pd.DataFrame(cmx_data, index=labels, columns=labels)\n",
    " \n",
    "    fig, ax = plt.subplots(figsize=(7, 6))\n",
    "    sns.heatmap(df_cmx, annot=True, fmt='g' ,square=False)\n",
    "    ax.set_ylim(len(set(y_true)), 0)\n",
    "    plt.show()\n",
    "    \n",
    "    if report:\n",
    "        print('Classification Report')\n",
    "        print(classification_report(y_test, y_pred))\n",
    "\n",
    "Y_pred = model.predict(X_test)\n",
    "y_pred = np.argmax(Y_pred, axis=1)\n",
    "\n",
    "print_confusion_matrix(y_test, y_pred)"
   ]
  },
  {
   "cell_type": "markdown",
   "metadata": {
    "id": "FNP6aqzc9hE5"
   },
   "source": [
    "# Convert to model for Tensorflow-Lite"
   ]
  },
  {
   "cell_type": "code",
   "execution_count": 57,
   "metadata": {
    "id": "ODjnYyld9hE6"
   },
   "outputs": [],
   "source": [
    "# Save as a model dedicated to inference\n",
    "model.save(model_save_path, include_optimizer=False)"
   ]
  },
  {
   "cell_type": "code",
   "execution_count": 58,
   "metadata": {
    "colab": {
     "base_uri": "https://localhost:8080/"
    },
    "id": "zRfuK8Y59hE6",
    "outputId": "a4ca585c-b5d5-4244-8291-8674063209bb"
   },
   "outputs": [
    {
     "name": "stderr",
     "output_type": "stream",
     "text": [
      "2021-09-18 15:14:47.322889: W tensorflow/python/util/util.cc:348] Sets are not currently considered sequences, but this may change in the future, so consider avoiding using them.\n"
     ]
    },
    {
     "name": "stdout",
     "output_type": "stream",
     "text": [
      "INFO:tensorflow:Assets written to: /var/folders/zn/_3stl7kj5xzdxw8p08_bvydc0000gn/T/tmpre1j7xks/assets\n"
     ]
    },
    {
     "name": "stderr",
     "output_type": "stream",
     "text": [
      "2021-09-18 15:14:47.741392: I tensorflow/core/grappler/devices.cc:78] Number of eligible GPUs (core count >= 8, compute capability >= 0.0): 0 (Note: TensorFlow was not compiled with CUDA or ROCm support)\n",
      "2021-09-18 15:14:47.741481: I tensorflow/core/grappler/clusters/single_machine.cc:356] Starting new session\n",
      "2021-09-18 15:14:47.742839: I tensorflow/core/grappler/optimizers/meta_optimizer.cc:928] Optimization results for grappler item: graph_to_optimize\n",
      "  function_optimizer: function_optimizer did nothing. time = 0.001ms.\n",
      "  function_optimizer: function_optimizer did nothing. time = 0ms.\n",
      "\n",
      "2021-09-18 15:14:47.786761: W tensorflow/compiler/mlir/lite/python/tf_tfl_flatbuffer_helpers.cc:316] Ignored output_format.\n",
      "2021-09-18 15:14:47.786777: W tensorflow/compiler/mlir/lite/python/tf_tfl_flatbuffer_helpers.cc:319] Ignored drop_control_dependency.\n",
      "2021-09-18 15:14:47.800264: I tensorflow/lite/tools/optimize/quantize_weights.cc:222] Skipping quantization of tensor sequential_1/dense_3/MatMul because it has fewer than 1024 elements (840).\n",
      "2021-09-18 15:14:47.800279: I tensorflow/lite/tools/optimize/quantize_weights.cc:222] Skipping quantization of tensor sequential_1/dense_4/MatMul because it has fewer than 1024 elements (200).\n",
      "2021-09-18 15:14:47.800284: I tensorflow/lite/tools/optimize/quantize_weights.cc:222] Skipping quantization of tensor sequential_1/dense_5/MatMul because it has fewer than 1024 elements (50).\n"
     ]
    },
    {
     "data": {
      "text/plain": [
       "6448"
      ]
     },
     "execution_count": 58,
     "metadata": {},
     "output_type": "execute_result"
    }
   ],
   "source": [
    "# Transform model (quantization)\n",
    "\n",
    "converter = tf.lite.TFLiteConverter.from_keras_model(model)\n",
    "converter.optimizations = [tf.lite.Optimize.DEFAULT]\n",
    "tflite_quantized_model = converter.convert()\n",
    "\n",
    "open(tflite_save_path, 'wb').write(tflite_quantized_model)"
   ]
  },
  {
   "cell_type": "markdown",
   "metadata": {
    "id": "CHBPBXdx9hE6"
   },
   "source": [
    "# Inference test"
   ]
  },
  {
   "cell_type": "code",
   "execution_count": 59,
   "metadata": {
    "id": "mGAzLocO9hE7"
   },
   "outputs": [],
   "source": [
    "interpreter = tf.lite.Interpreter(model_path=tflite_save_path)\n",
    "interpreter.allocate_tensors()"
   ]
  },
  {
   "cell_type": "code",
   "execution_count": 60,
   "metadata": {
    "id": "oQuDK8YS9hE7"
   },
   "outputs": [],
   "source": [
    "# Get I / O tensor\n",
    "input_details = interpreter.get_input_details()\n",
    "output_details = interpreter.get_output_details()"
   ]
  },
  {
   "cell_type": "code",
   "execution_count": 65,
   "metadata": {
    "id": "2_ixAf_l9hE7"
   },
   "outputs": [
    {
     "ename": "ValueError",
     "evalue": "Cannot set tensor: Got value of type NOTYPE but expected type FLOAT32 for input 0, name: input_2 ",
     "output_type": "error",
     "traceback": [
      "\u001b[0;31m---------------------------------------------------------------------------\u001b[0m",
      "\u001b[0;31mValueError\u001b[0m                                Traceback (most recent call last)",
      "\u001b[0;32m/var/folders/zn/_3stl7kj5xzdxw8p08_bvydc0000gn/T/ipykernel_72332/3381142894.py\u001b[0m in \u001b[0;36m<module>\u001b[0;34m\u001b[0m\n\u001b[0;32m----> 1\u001b[0;31m \u001b[0minterpreter\u001b[0m\u001b[0;34m.\u001b[0m\u001b[0mset_tensor\u001b[0m\u001b[0;34m(\u001b[0m\u001b[0minput_details\u001b[0m\u001b[0;34m[\u001b[0m\u001b[0;36m0\u001b[0m\u001b[0;34m]\u001b[0m\u001b[0;34m[\u001b[0m\u001b[0;34m'index'\u001b[0m\u001b[0;34m]\u001b[0m\u001b[0;34m,\u001b[0m \u001b[0mnp\u001b[0m\u001b[0;34m.\u001b[0m\u001b[0marray\u001b[0m\u001b[0;34m(\u001b[0m\u001b[0;34m[\u001b[0m\u001b[0mX_test\u001b[0m\u001b[0;34m[\u001b[0m\u001b[0;36m0\u001b[0m\u001b[0;34m]\u001b[0m\u001b[0;34m]\u001b[0m\u001b[0;34m)\u001b[0m\u001b[0;34m)\u001b[0m\u001b[0;34m\u001b[0m\u001b[0;34m\u001b[0m\u001b[0m\n\u001b[0m",
      "\u001b[0;32m~/opt/anaconda3/envs/hololen/lib/python3.9/site-packages/tensorflow/lite/python/interpreter.py\u001b[0m in \u001b[0;36mset_tensor\u001b[0;34m(self, tensor_index, value)\u001b[0m\n\u001b[1;32m    421\u001b[0m       \u001b[0mValueError\u001b[0m\u001b[0;34m:\u001b[0m \u001b[0mIf\u001b[0m \u001b[0mthe\u001b[0m \u001b[0minterpreter\u001b[0m \u001b[0mcould\u001b[0m \u001b[0;32mnot\u001b[0m \u001b[0mset\u001b[0m \u001b[0mthe\u001b[0m \u001b[0mtensor\u001b[0m\u001b[0;34m.\u001b[0m\u001b[0;34m\u001b[0m\u001b[0;34m\u001b[0m\u001b[0m\n\u001b[1;32m    422\u001b[0m     \"\"\"\n\u001b[0;32m--> 423\u001b[0;31m     \u001b[0mself\u001b[0m\u001b[0;34m.\u001b[0m\u001b[0m_interpreter\u001b[0m\u001b[0;34m.\u001b[0m\u001b[0mSetTensor\u001b[0m\u001b[0;34m(\u001b[0m\u001b[0mtensor_index\u001b[0m\u001b[0;34m,\u001b[0m \u001b[0mvalue\u001b[0m\u001b[0;34m)\u001b[0m\u001b[0;34m\u001b[0m\u001b[0;34m\u001b[0m\u001b[0m\n\u001b[0m\u001b[1;32m    424\u001b[0m \u001b[0;34m\u001b[0m\u001b[0m\n\u001b[1;32m    425\u001b[0m   \u001b[0;32mdef\u001b[0m \u001b[0mresize_tensor_input\u001b[0m\u001b[0;34m(\u001b[0m\u001b[0mself\u001b[0m\u001b[0;34m,\u001b[0m \u001b[0minput_index\u001b[0m\u001b[0;34m,\u001b[0m \u001b[0mtensor_size\u001b[0m\u001b[0;34m,\u001b[0m \u001b[0mstrict\u001b[0m\u001b[0;34m=\u001b[0m\u001b[0;32mFalse\u001b[0m\u001b[0;34m)\u001b[0m\u001b[0;34m:\u001b[0m\u001b[0;34m\u001b[0m\u001b[0;34m\u001b[0m\u001b[0m\n",
      "\u001b[0;31mValueError\u001b[0m: Cannot set tensor: Got value of type NOTYPE but expected type FLOAT32 for input 0, name: input_2 "
     ]
    }
   ],
   "source": [
    "interpreter.set_tensor(input_details[0]['index'], np.array([X_test[0]]))"
   ]
  },
  {
   "cell_type": "code",
   "execution_count": 64,
   "metadata": {
    "colab": {
     "base_uri": "https://localhost:8080/"
    },
    "id": "s4FoAnuc9hE7",
    "outputId": "91f18257-8d8b-4ef3-c558-e9b5f94fabbf",
    "scrolled": true
   },
   "outputs": [
    {
     "name": "stdout",
     "output_type": "stream",
     "text": [
      "CPU times: user 41 µs, sys: 5 µs, total: 46 µs\n",
      "Wall time: 49.8 µs\n"
     ]
    }
   ],
   "source": [
    "%%time\n",
    "# Inference implementation\n",
    "interpreter.invoke()\n",
    "tflite_results = interpreter.get_tensor(output_details[0]['index'])"
   ]
  },
  {
   "cell_type": "code",
   "execution_count": 63,
   "metadata": {
    "colab": {
     "base_uri": "https://localhost:8080/"
    },
    "id": "vONjp19J9hE8",
    "outputId": "77205e24-fd00-42c4-f7b6-e06e527c2cba"
   },
   "outputs": [
    {
     "name": "stdout",
     "output_type": "stream",
     "text": [
      "[0.08546507 0.09256438 0.6720689  0.02732721 0.12257449]\n",
      "2\n"
     ]
    }
   ],
   "source": [
    "print(np.squeeze(tflite_results))\n",
    "print(np.argmax(np.squeeze(tflite_results)))"
   ]
  },
  {
   "cell_type": "code",
   "execution_count": null,
   "metadata": {},
   "outputs": [],
   "source": []
  }
 ],
 "metadata": {
  "accelerator": "GPU",
  "colab": {
   "collapsed_sections": [],
   "name": "keypoint_classification_EN.ipynb",
   "provenance": [],
   "toc_visible": true
  },
  "kernelspec": {
   "display_name": "Python 3 (ipykernel)",
   "language": "python",
   "name": "python3"
  },
  "language_info": {
   "codemirror_mode": {
    "name": "ipython",
    "version": 3
   },
   "file_extension": ".py",
   "mimetype": "text/x-python",
   "name": "python",
   "nbconvert_exporter": "python",
   "pygments_lexer": "ipython3",
   "version": "3.9.7"
  }
 },
 "nbformat": 4,
 "nbformat_minor": 4
}
